{
 "cells": [
  {
   "cell_type": "markdown",
   "metadata": {},
   "source": [
    "# Project Set Up"
   ]
  },
  {
   "cell_type": "markdown",
   "metadata": {},
   "source": [
    "This is an important part of any development project, specially if the project is shared with more people interested on it as it can be more readable and easy to understand.\n",
    "There are some good practices to set up a python project however this will show some of the important files that need to be added into the project in order to be more consistent and easy to work with.\n",
    "\n",
    "A proper project example can be found [here](https://github.com/navdeep-G/samplemod)"
   ]
  },
  {
   "cell_type": "markdown",
   "metadata": {},
   "source": [
    "## License"
   ]
  },
  {
   "cell_type": "markdown",
   "metadata": {},
   "source": [
    "This is arguably the most important part of your repository, aside from the source code itself. The full license text and copyright claims should exist in this file.\n",
    "If you aren’t sure which license you should use for your project, check out [here](https://choosealicense.com/).\n",
    "\n",
    "Of course, you are also free to publish code without a license, but this would prevent many people from potentially using your code."
   ]
  },
  {
   "cell_type": "markdown",
   "metadata": {},
   "source": [
    "<strong>Location:</strong>    ./LICENSE<br>\n",
    "<strong>Purpose:</strong>     Lawyering up."
   ]
  },
  {
   "cell_type": "markdown",
   "metadata": {},
   "source": [
    "## Setup.py"
   ]
  },
  {
   "cell_type": "markdown",
   "metadata": {},
   "source": [
    "If your module package is at the root of your repository, this should obviously be at the root as well. Here it can be defined which packages are optional or required for the project also it can contains the information about the license and the author information.\n",
    "\n",
    "[Here](https://github.com/navdeep-G/setup.py/blob/master/setup.py) can be found an example of a setup file with python."
   ]
  },
  {
   "cell_type": "markdown",
   "metadata": {},
   "source": [
    "<strong>Location:</strong> ./setup.py<br>\n",
    "<strong>Purpose:</strong> Package and distribution management."
   ]
  },
  {
   "cell_type": "markdown",
   "metadata": {},
   "source": [
    "## Requirements"
   ]
  },
  {
   "cell_type": "markdown",
   "metadata": {},
   "source": [
    "A pip requirements file should be placed at the root of the repository. It should specify the dependencies required to contribute to the project: testing, building, and generating documentation.\n",
    "\n",
    "If your project has no development dependencies, or you prefer development environment setup via setup.py, this file may be unnecessary."
   ]
  },
  {
   "cell_type": "markdown",
   "metadata": {},
   "source": [
    "<strong>Location:</strong> ./requirements.txt<br>\n",
    "<strong>Purpose</strong> Development dependencies"
   ]
  },
  {
   "cell_type": "markdown",
   "metadata": {},
   "source": [
    "## Readme file"
   ]
  },
  {
   "cell_type": "markdown",
   "metadata": {},
   "source": [
    "The readme file is a good source to provide the proper information about the description of the project installation guide and the requirements  of the system.\n",
    "It is crated using markdown format, for more information click [here](https://guides.github.com/features/mastering-markdown/)"
   ]
  },
  {
   "cell_type": "markdown",
   "metadata": {},
   "source": [
    "<strong>Location:</strong> ./ <br>\n",
    "<strong>Purpose:</strong> Package reference documentation."
   ]
  },
  {
   "cell_type": "markdown",
   "metadata": {},
   "source": [
    "## Test suit"
   ]
  },
  {
   "cell_type": "markdown",
   "metadata": {},
   "source": [
    "It is highly recommended the latter. Requiring a developer to run \"setup.py develop\" to test an actively changing codebase also requires them to have an isolated environment setup for each instance of the codebase.\n",
    "\n",
    "The code inside the test file or path will depend on the module or framework that you are using, please see some options and examples [here](https://docs.python-guide.org/writing/tests/)."
   ]
  },
  {
   "cell_type": "markdown",
   "metadata": {},
   "source": [
    "<strong>Location:</strong> ./test_sample.py or ./tests<br>\n",
    "<strong>Purpose:</strong> Package integration and unit tests."
   ]
  },
  {
   "cell_type": "markdown",
   "metadata": {},
   "source": [
    "## Makefile, Manage or FabFile"
   ]
  },
  {
   "cell_type": "markdown",
   "metadata": {},
   "source": [
    "<strong>Location:</strong> ./Makefile<br>\n",
    "<strong>Purpose:</strong> Generic management tasks."
   ]
  },
  {
   "cell_type": "markdown",
   "metadata": {},
   "source": [
    "This file can be defines as the main file of the project which you can use to run commands to interact with the whole project (some frameworks like Django or Flask use the manage.py to run specific core commands for the same). Other generic management scripts (e.g. manage.py or fabfile.py) belong at the root of the repository as well.\n",
    "\n",
    "Sample file:"
   ]
  },
  {
   "cell_type": "raw",
   "metadata": {},
   "source": [
    "init:\n",
    "    pip install -r requirements.txt\n",
    "\n",
    "test:\n",
    "    py.test tests\n",
    "\n",
    ".PHONY: init test"
   ]
  },
  {
   "cell_type": "markdown",
   "metadata": {},
   "source": [
    "## Docs\n",
    "\n",
    "There are some tools that can help on generating documentation for software written in Python these tools that can use language-specific features to automate at least a part of the code documentation work for you.\n",
    "In order to get this automated you must follow [docstrings standart](https://www.python.org/dev/peps/pep-0257/).\n",
    "\n",
    "### Python docstrings\n",
    "\n",
    "Python modules are usually documented using docstrings. You can read a module's docstrings from the Python interactive prompt with the help() function. For example:"
   ]
  },
  {
   "cell_type": "code",
   "execution_count": null,
   "metadata": {},
   "outputs": [],
   "source": [
    "F_SUBSTRACTION_C_ADDITION = 32\n",
    "F_DIVISION_C_MULT = 1.800\n",
    "DECIMALS = 2\n",
    "\n",
    "#list of temperatures to pass for map funcion and iter for every function\n",
    "temperatures = [85,42,3,96,87,36,49,71,63,6,78]\n",
    "\n",
    "\n",
    "class Converter(object):\n",
    "    \"\"\" \n",
    "    Converter\n",
    "    \n",
    "    \"\"\"\n",
    "    def celcius_fahrenheit(self, value):\n",
    "        \"\"\" \n",
    "        celcius to fahrenheit\n",
    "        \n",
    "        This function will convert celcius to fahrenheit\n",
    "        \"\"\"\n",
    "        fahrenheit_result = round((int(value) * F_DIVISION_C_MULT) + F_SUBSTRACTION_C_ADDITION, DECIMALS)\n",
    "        return 'Fahrenheit: °' + str(fahrenheit_result)\n",
    "\n",
    "    def fahrenheit_celcius(self, value):\n",
    "        \"\"\" \n",
    "        fahrenheit to celcius\n",
    "        \n",
    "        This function will convert fahrenheit to celcius\n",
    "        \"\"\"\n",
    "        celcius_result = round((int(value) - F_SUBSTRACTION_C_ADDITION) / F_DIVISION_C_MULT, DECIMALS)\n",
    "        return 'Celcius: °' + str(celcius_result)\n",
    "        \n",
    "convert = Converter()\n",
    "\n",
    "\n",
    "#print(list(map(convert.celcius_fahrenheit, temperatures)))\n",
    "#print(list(map(convert.fahrenheit_celcius, temperatures)))\n",
    "\n",
    "print(help(convert))\n"
   ]
  },
  {
   "cell_type": "markdown",
   "metadata": {},
   "source": [
    "## PyScaffold: Template tool for putting up the scaffold of a Python project"
   ]
  },
  {
   "cell_type": "markdown",
   "metadata": {},
   "source": [
    "An excelent option to get a template of a nice python project is PyScaffold, you create the structure of your package with package folder, test and docs folder, generate the __init__.py files and setup.py for starters. After that it’s all about tweaking your configuration files like .gitconfig if you are using git, .coveragerc for your coverage reports, conf.py for your Sphinx documentation and of course you want automatic PEP8 checks. PyScaffold includes all of these by itself.\n",
    "\n",
    "### How can install PyScaffold"
   ]
  },
  {
   "cell_type": "raw",
   "metadata": {},
   "source": [
    "pip install pyscaffold"
   ]
  },
  {
   "cell_type": "markdown",
   "metadata": {},
   "source": [
    "### How to Set Up your project"
   ]
  },
  {
   "cell_type": "raw",
   "metadata": {},
   "source": [
    "putup MyTestProject"
   ]
  },
  {
   "cell_type": "markdown",
   "metadata": {},
   "source": [
    "### PyScaffold  file structure"
   ]
  },
  {
   "cell_type": "raw",
   "metadata": {},
   "source": [
    "MyTestProject/\n",
    "├── AUTHORS.rst\n",
    "├── CHANGELOG.rst\n",
    "├── docs\n",
    "│   ├── authors.rst\n",
    "│   ├── changelog.rst\n",
    "│   ├── conf.py\n",
    "│   ├── index.rst\n",
    "│   ├── license.rst\n",
    "│   ├── Makefile\n",
    "│   └── _static\n",
    "├── LICENSE.txt\n",
    "├── README.rst\n",
    "├── requirements.txt\n",
    "├── setup.cfg\n",
    "├── setup.py\n",
    "├── src\n",
    "│   └── mytestproject\n",
    "│       ├── __init__.py\n",
    "│       └── skeleton.py\n",
    "└── tests\n",
    "    ├── conftest.py\n",
    "    └── test_skeleton.py"
   ]
  },
  {
   "cell_type": "markdown",
   "metadata": {},
   "source": [
    "### Note: \n",
    "skeleton.py & test_skeleton.py are just were the real code will be added and no need to name it like it."
   ]
  },
  {
   "cell_type": "markdown",
   "metadata": {},
   "source": [
    "## Do you want to know about tools to automate the Set Up process?\n",
    "\n",
    "- [Break the Cycle: Three excellent Python tools to automate repetitive tasks](https://pyvideo.org/pycon-us-2019/break-the-cycle-three-excellent-python-tools-to-automate-repetitive-tasks.html)"
   ]
  }
 ],
 "metadata": {
  "kernelspec": {
   "display_name": "Python 3",
   "language": "python",
   "name": "python3"
  },
  "language_info": {
   "codemirror_mode": {
    "name": "ipython",
    "version": 3
   },
   "file_extension": ".py",
   "mimetype": "text/x-python",
   "name": "python",
   "nbconvert_exporter": "python",
   "pygments_lexer": "ipython3",
   "version": "3.7.1"
  }
 },
 "nbformat": 4,
 "nbformat_minor": 4
}
