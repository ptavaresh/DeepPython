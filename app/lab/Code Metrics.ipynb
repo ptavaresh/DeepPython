{
 "cells": [
  {
   "cell_type": "markdown",
   "metadata": {},
   "source": [
    "# Code Metrics\n",
    "\n",
    "Code metrics can be produced by static code analysis tools to determine complexity and non-standard practices.\n",
    "\n",
    "## Why are code metrics important?\n",
    "\n",
    "Code metrics allow developers to find problematic codebase areas that may need refactoring. In addition, some metrics such as technical debt assist developers in communicating to non-technical audiences why issues with a system are occurring.\n",
    "\n",
    "## Open source code metrics projects\n",
    "\n",
    "- Radon is a tool for obtaining raw metrics on line counts, Cyclomatic Complexity, Halstead metrics and maintainability metrics.\n",
    "\n",
    "- Pylint contains checkers for PEP8 code style compliance, design, exceptions and many other source code analysis tools.\n",
    "\n",
    "- PyFlakes parses source files for errors and reports on them.\n",
    "\n",
    "- Pyntch is a static code analyzer that attempts to detect runtime errors. It does not perform code style checking.\n",
    "\n",
    "- Prospector inspects Python source code files to give data on type and location of classes, methods and other related source information.\n",
    "\n",
    "- Flake8 is a code format style guideline enforcer. Its goal is not to gather metrics but ensure a consistent style in all of your Python programs for maximum readability. The rules for Flask8 are all defined in this list, which rolls up the Flake8 dependencies of pycodestyle, pyflakes and McCabe.\n",
    "\n",
    "Code metrics are really useful when you have a team working on a project for awhile and want to keep the code quality from degrading. However, you can easily go overboard instrumenting everything and overanalyzing the results. The following resources will introduce code metrics topics to you as well as give perspective when metrics are useful to the point of diminishing returns.\n",
    "\n",
    "## Hosted code metrics services\n",
    "\n",
    "The following tools are ready to use by going to the service, punching in the URL to your site, letting them perform their analysis and then reading the results.\n",
    "\n",
    "- Coveralls shows code coverage from test suites and other metrics to help developers improve the quality of their code.\n",
    "\n",
    "- webhint, formerly Sonarwhal scans your website for accessibility, speed and security. There is both an online version that you can point at an arbitrary URL as well as a command-line version for running yourself.\n",
    "\n",
    "- Codecov hooks into GitHub, BitBucket or GitLab and reports code coverage on your code repositories.\n",
    "\n",
    "\n",
    "## Radon example\n",
    "\n",
    "Installation"
   ]
  },
  {
   "cell_type": "code",
   "execution_count": 1,
   "metadata": {},
   "outputs": [
    {
     "name": "stdout",
     "output_type": "stream",
     "text": [
      "Collecting radon\n",
      "  Using cached https://files.pythonhosted.org/packages/02/29/9b276b1bd27401a650aeb3f31d406bfdc1e414dd412ddc192032a0a63edc/radon-3.0.3-py2.py3-none-any.whl\n",
      "Requirement already satisfied: colorama<0.5,>=0.4 in c:\\users\\pedro tavares\\appdata\\local\\continuum\\anaconda3\\lib\\site-packages (from radon) (0.4.1)\n",
      "Collecting mando<0.7,>=0.6 (from radon)\n",
      "  Using cached https://files.pythonhosted.org/packages/e6/cc/f6e25247c1493a654785e68cd975e479c311e99dafedd49ed17f8d300e0c/mando-0.6.4-py2.py3-none-any.whl\n",
      "Requirement already satisfied: future in c:\\users\\pedro tavares\\appdata\\local\\continuum\\anaconda3\\lib\\site-packages (from radon) (0.17.1)\n",
      "Collecting flake8-polyfill (from radon)\n",
      "  Using cached https://files.pythonhosted.org/packages/86/b5/a43fed6fd0193585d17d6faa7b85317d4461f694aaed546098c69f856579/flake8_polyfill-1.0.2-py2.py3-none-any.whl\n",
      "Requirement already satisfied: six in c:\\users\\pedro tavares\\appdata\\local\\continuum\\anaconda3\\lib\\site-packages (from mando<0.7,>=0.6->radon) (1.12.0)\n",
      "Collecting flake8 (from flake8-polyfill->radon)\n",
      "  Downloading https://files.pythonhosted.org/packages/26/de/3f815a99d86eb10464ea7bd6059c0172c7ca97d4bdcfca41051b388a653b/flake8-3.7.8-py2.py3-none-any.whl (70kB)\n",
      "Requirement already satisfied: mccabe<0.7.0,>=0.6.0 in c:\\users\\pedro tavares\\appdata\\local\\continuum\\anaconda3\\lib\\site-packages (from flake8->flake8-polyfill->radon) (0.6.1)\n",
      "Collecting pyflakes<2.2.0,>=2.1.0 (from flake8->flake8-polyfill->radon)\n",
      "  Downloading https://files.pythonhosted.org/packages/84/f2/ed0ffb887f8138a8fe5a621b8c0bb9598bfb3989e029f6c6a85ee66628ee/pyflakes-2.1.1-py2.py3-none-any.whl (59kB)\n",
      "Collecting pycodestyle<2.6.0,>=2.5.0 (from flake8->flake8-polyfill->radon)\n",
      "  Downloading https://files.pythonhosted.org/packages/0e/0c/04a353e104d2f324f8ee5f4b32012618c1c86dd79e52a433b64fceed511b/pycodestyle-2.5.0-py2.py3-none-any.whl (51kB)\n",
      "Collecting entrypoints<0.4.0,>=0.3.0 (from flake8->flake8-polyfill->radon)\n",
      "  Downloading https://files.pythonhosted.org/packages/ac/c6/44694103f8c221443ee6b0041f69e2740d89a25641e62fb4f2ee568f2f9c/entrypoints-0.3-py2.py3-none-any.whl\n",
      "Installing collected packages: mando, pyflakes, pycodestyle, entrypoints, flake8, flake8-polyfill, radon\n",
      "  Found existing installation: pyflakes 2.0.0\n",
      "    Uninstalling pyflakes-2.0.0:\n",
      "      Successfully uninstalled pyflakes-2.0.0\n",
      "  Found existing installation: pycodestyle 2.4.0\n",
      "    Uninstalling pycodestyle-2.4.0:\n",
      "      Successfully uninstalled pycodestyle-2.4.0\n",
      "  Found existing installation: entrypoints 0.2.3\n"
     ]
    },
    {
     "name": "stderr",
     "output_type": "stream",
     "text": [
      "spyder 3.3.2 requires pyqt5<5.10; python_version >= \"3\", which is not installed.\n",
      "Cannot uninstall 'entrypoints'. It is a distutils installed project and thus we cannot accurately determine which files belong to it which would lead to only a partial uninstall.\n"
     ]
    }
   ],
   "source": [
    "!pip install radon"
   ]
  },
  {
   "cell_type": "markdown",
   "metadata": {},
   "source": [
    "## Cyclomatic Complexity Example"
   ]
  },
  {
   "cell_type": "code",
   "execution_count": 2,
   "metadata": {},
   "outputs": [
    {
     "name": "stderr",
     "output_type": "stream",
     "text": [
      "'radon' is not recognized as an internal or external command,\n",
      "operable program or batch file.\n"
     ]
    }
   ],
   "source": [
    "!radon cc dict_CRUD.py"
   ]
  },
  {
   "cell_type": "raw",
   "metadata": {},
   "source": [
    "$ radon cc sympy/solvers/solvers.py -a -nc\n",
    "sympy/solvers/solvers.py\n",
    "    F 346:0 solve - F\n",
    "    F 1093:0 _solve - F\n",
    "    F 1434:0 _solve_system - F\n",
    "    F 2647:0 unrad - F\n",
    "    F 110:0 checksol - F\n",
    "    F 2238:0 _tsolve - F\n",
    "    F 2482:0 _invert - F\n",
    "    F 1862:0 solve_linear_system - E\n",
    "    F 1781:0 minsolve_linear_system - D\n",
    "    F 1636:0 solve_linear - D\n",
    "    F 2382:0 nsolve - C\n",
    "\n",
    "11 blocks (classes, functions, methods) analyzed.\n",
    "Average complexity: F (61.0)"
   ]
  },
  {
   "cell_type": "markdown",
   "metadata": {},
   "source": [
    "Explanation:\n",
    "\n",
    "- cc is the radon command to compute Cyclomatic Complexity\n",
    "- -a tells radon to calculate the average complexity at the end. Note that the average is computed among the shown blocks. If you want the total average, among all the blocks, regardless of what is being shown, you should use --total-average.\n",
    "- -nc tells radon to print only results with a complexity rank of C or worse. Other examples: -na (from A to F), or -nd (from D to F).\n",
    "- The letter in front of the line numbers represents the type of the block (F means function, M method and C class).\n",
    "\n",
    "[more information about cylomatic metrics](https://radon.readthedocs.io/en/latest/intro.html#cyclomatic-complexity)"
   ]
  },
  {
   "cell_type": "markdown",
   "metadata": {},
   "source": [
    "## Snakeviz example\n",
    "\n",
    "Installation"
   ]
  },
  {
   "cell_type": "code",
   "execution_count": null,
   "metadata": {},
   "outputs": [],
   "source": [
    "!pip install snakeviz"
   ]
  },
  {
   "cell_type": "markdown",
   "metadata": {},
   "source": [
    "After the installation, the snakeviz module is available but a cProfile is required, it can be created by running below command."
   ]
  },
  {
   "cell_type": "raw",
   "metadata": {},
   "source": [
    "python -m cProfile -o program.prof my_program.py"
   ]
  },
  {
   "cell_type": "markdown",
   "metadata": {},
   "source": [
    "<strong>Note:</strong> In \"my_program.py\" parameter you shouls use your python file to analize, and it is not required to run in an jupyter notebook environment."
   ]
  },
  {
   "cell_type": "markdown",
   "metadata": {},
   "source": [
    "If you have generated a profile file called program.prof you can start SnakeViz from the command line:"
   ]
  },
  {
   "cell_type": "raw",
   "metadata": {},
   "source": [
    "snakeviz program.prof"
   ]
  },
  {
   "cell_type": "markdown",
   "metadata": {},
   "source": [
    "<strong>If you are using IPython:</strong> Then use the %snakeviz (for a single line of code) and %%snakeviz (for multiple lines of code) magics to profile and view individual lines or entire blocks of code:"
   ]
  },
  {
   "cell_type": "code",
   "execution_count": null,
   "metadata": {},
   "outputs": [],
   "source": [
    "%load_ext snakeviz"
   ]
  },
  {
   "cell_type": "markdown",
   "metadata": {},
   "source": [
    "This line loads the snakeviz extension for IPython\n",
    "\n",
    "Below code is just an example that can bu used to test the snakeviz process."
   ]
  },
  {
   "cell_type": "code",
   "execution_count": null,
   "metadata": {},
   "outputs": [],
   "source": [
    "%%snakeviz\n",
    "import glob\n",
    "import hashlib\n",
    "files = glob.glob('*.txt')\n",
    "for file in files:\n",
    "    with open(file) as f:\n",
    "        print(hashlib.md5(f.read().encode('utf-8')).hexdigest())"
   ]
  },
  {
   "cell_type": "markdown",
   "metadata": {},
   "source": [
    "Then use the %snakeviz (for a single line of code) and %%snakeviz (for multiple lines of code) magics to profile and view individual lines or entire blocks of code."
   ]
  },
  {
   "cell_type": "markdown",
   "metadata": {},
   "source": [
    "## You want more about code metrics?\n",
    "- [Faster Python Programs - Measure, don't Guess](https://pyvideo.org/pycon-us-2019/faster-python-programs-measure-dont-guess.html)"
   ]
  },
  {
   "cell_type": "markdown",
   "metadata": {},
   "source": [
    "------\n",
    "Matt Makai (2019), Code Metrics, Retrieved from\n",
    "https://www.fullstackpython.com/code-metrics.html\n",
    "\n",
    "Michele Lacchia (May, 2019), Radon 3.0.3, Retrieved from \n",
    "https://pypi.org/project/radon/"
   ]
  }
 ],
 "metadata": {
  "kernelspec": {
   "display_name": "Python 3",
   "language": "python",
   "name": "python3"
  },
  "language_info": {
   "codemirror_mode": {
    "name": "ipython",
    "version": 3
   },
   "file_extension": ".py",
   "mimetype": "text/x-python",
   "name": "python",
   "nbconvert_exporter": "python",
   "pygments_lexer": "ipython3",
   "version": "3.7.1"
  }
 },
 "nbformat": 4,
 "nbformat_minor": 2
}
