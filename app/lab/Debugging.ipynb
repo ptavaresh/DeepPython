{
 "cells": [
  {
   "cell_type": "markdown",
   "metadata": {},
   "source": [
    "## Python debugging with pdb"
   ]
  },
  {
   "cell_type": "markdown",
   "metadata": {},
   "source": [
    "Pdb is part of Python’s standard library, so it’s always there and available for use. It is a nice tool when looking for mistakes in a big number of code lines, it is inserted on the source code to create break points or stop to print the trace of an statment and use python code ti verify the current value of a variable, the Pdb is used in the shell interface so that you can use python code to interact with the source code of the project.\n",
    "\n",
    "Import the pdb:"
   ]
  },
  {
   "cell_type": "code",
   "execution_count": null,
   "metadata": {},
   "outputs": [],
   "source": [
    "import pdb"
   ]
  },
  {
   "cell_type": "code",
   "execution_count": null,
   "metadata": {},
   "outputs": [],
   "source": [
    "In this first example, we’ll look at using pdb in its simplest form: checking the value of a variable."
   ]
  },
  {
   "cell_type": "markdown",
   "metadata": {},
   "source": [
    "Insert the following code at the location where you want to break into the debugger:"
   ]
  },
  {
   "cell_type": "code",
   "execution_count": null,
   "metadata": {},
   "outputs": [],
   "source": [
    "var = 'Hi there!!!'\n",
    "import pdb; pdb.set_trace()\n",
    "print(f'path = {var}')"
   ]
  },
  {
   "cell_type": "markdown",
   "metadata": {},
   "source": [
    "When the line above is executed, Python stops and waits for you to tell it what to do next. You’ll see a (Pdb) prompt. This means that you’re now paused in the interactive debugger and can enter a command."
   ]
  },
  {
   "cell_type": "markdown",
   "metadata": {},
   "source": [
    "Since you’re in a shell and using a CLI (command-line interface), pay attention to the characters and formatting. They’ll give you the context you need:\n",
    "\n",
    "- starts the 1st line and tells you which source file you’re in. After the filename, there is the current line number in parentheses. Next is the name of the function. In this example, since we’re not paused inside a function and at module level.\n",
    "\n",
    "- starts the 2nd line and is the current source line where Python is paused. This line hasn’t been executed yet. In this example, this is line 5 in example1.py, from the > line above.\n",
    "\n",
    "- (Pdb) is pdb’s prompt. It’s waiting for a command.\n",
    "\n",
    "Use the command q to quit debugging and exit."
   ]
  },
  {
   "cell_type": "markdown",
   "metadata": {},
   "source": [
    "## Example"
   ]
  },
  {
   "cell_type": "code",
   "execution_count": null,
   "metadata": {},
   "outputs": [],
   "source": [
    "import json\n",
    "\n",
    "name = 'Pedro'\n",
    "person_id = 1 \n",
    "activity = 'Dev'\n",
    "def get_dict(name, person_id, activity):\n",
    "    \"\"\"asign values and return as dictionary.\"\"\"\n",
    "    person = {\n",
    "          \"id\": person_id,\n",
    "          \"name\": name,\n",
    "          \"activity\": activity\n",
    "        }\n",
    "    # i do not return anything :(\n",
    "    #return person\n",
    "\n",
    "\n",
    "def print_values(input_dict):\n",
    "    \"\"\"Loop through dictionary and print values.\"\"\"\n",
    "    import pdb; pdb.set_trace()\n",
    "    for k, v in input_dict.items():\n",
    "        print('{0}: {1}'.format(k, v))\n",
    "\n",
    "sample_dict = get_dict(name, person_id, activity)\n",
    "#import pdb; pdb.set_trace()\n",
    "print_values(sample_dict)\n",
    "    \n",
    "\n"
   ]
  },
  {
   "cell_type": "markdown",
   "metadata": {},
   "source": [
    "### Also for more information related debugging\n",
    "\n",
    "- [How to debug in a IDE](https://www.youtube.com/watch?v=w8QHoVam1-I&feature=youtu.be)\n",
    "\n",
    "- [Remote debugging](https://www.youtube.com/watch?v=jKB_nIoC1gQ)"
   ]
  }
 ],
 "metadata": {
  "kernelspec": {
   "display_name": "Python 3",
   "language": "python",
   "name": "python3"
  },
  "language_info": {
   "codemirror_mode": {
    "name": "ipython",
    "version": 3
   },
   "file_extension": ".py",
   "mimetype": "text/x-python",
   "name": "python",
   "nbconvert_exporter": "python",
   "pygments_lexer": "ipython3",
   "version": "3.7.1"
  }
 },
 "nbformat": 4,
 "nbformat_minor": 4
}
