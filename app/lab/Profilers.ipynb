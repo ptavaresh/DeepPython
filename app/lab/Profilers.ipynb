{
 "cells": [
  {
   "cell_type": "markdown",
   "metadata": {},
   "source": [
    "# Optimizing python code with Profilers"
   ]
  },
  {
   "cell_type": "markdown",
   "metadata": {},
   "source": [
    "A profile is a set of statistics that describes how often and for how long various parts of the program executed. These statistics can be formatted into reports via the \"pstats\" module."
   ]
  },
  {
   "cell_type": "markdown",
   "metadata": {},
   "source": [
    "## When to optimize?"
   ]
  },
  {
   "cell_type": "markdown",
   "metadata": {},
   "source": [
    "- Do you need optimization?\n",
    "    - if speed is not a problem, then there is no reason to optimize\n",
    "- If yes: Which parts of the code should be optimized?\n",
    "    - Use a profiler, such as cProfile\n",
    "    - Usually almost all the execution time occurs within a small part of the code\n",
    "    - Optimize that code, and leave the rest alone\n",
    "- if you needd even better performance\n",
    "    - Redisign the code completely\n",
    "    - But this takes effort, so consider this."
   ]
  },
  {
   "cell_type": "code",
   "execution_count": null,
   "metadata": {},
   "outputs": [],
   "source": [
    "import cProfile, pstats, io\n",
    "\n",
    "def profile(fnc):\n",
    "    \n",
    "    \"\"\"A decorator that uses cProfile to profile a function\"\"\"\n",
    "    \n",
    "    def inner(*args, **kwargs):\n",
    "        \n",
    "        pr = cProfile.Profile()\n",
    "        pr.enable() #Start collecting profiling data.\n",
    "        retval = fnc(*args, **kwargs)\n",
    "        pr.disable()#Stop collecting profiling data.\n",
    "        s = io.StringIO()#Output will be printed to the stream specified by stream\n",
    "        sortby = 'cumulative'\n",
    "        ps = pstats.Stats(pr, stream=s).sort_stats(sortby)\n",
    "        ps.print_stats()#prints out a report as described in the profile.run() definition.\n",
    "        print(s.getvalue())\n",
    "        return retval\n",
    "\n",
    "    return inner"
   ]
  },
  {
   "cell_type": "code",
   "execution_count": null,
   "metadata": {},
   "outputs": [],
   "source": [
    "def read_movies(src):\n",
    "    with open(src) as fd:\n",
    "        return fd.read().splitlines()\n",
    "    \n",
    "def is_duplicate(needle, haystack):\n",
    "    for movie in haystack:\n",
    "        if needle.lower() == movie.lower():\n",
    "            return True\n",
    "    return False\n",
    "\n",
    "@profile\n",
    "def find_duplicate_movies(src=\"movies.txt\"):\n",
    "    movies = read_movies(src)\n",
    "    movies = [movie.lower() for movie in movies]\n",
    "    duplicates = []\n",
    "    while movies:\n",
    "        movie = movies.pop()\n",
    "        if is_duplicate(movie, movies):\n",
    "            duplicates.append(movie)\n",
    "    return duplicates\n",
    "\n",
    "find_duplicate_movies()"
   ]
  }
 ],
 "metadata": {
  "kernelspec": {
   "display_name": "Python 3",
   "language": "python",
   "name": "python3"
  },
  "language_info": {
   "codemirror_mode": {
    "name": "ipython",
    "version": 3
   },
   "file_extension": ".py",
   "mimetype": "text/x-python",
   "name": "python",
   "nbconvert_exporter": "python",
   "pygments_lexer": "ipython3",
   "version": "3.7.1"
  }
 },
 "nbformat": 4,
 "nbformat_minor": 4
}
